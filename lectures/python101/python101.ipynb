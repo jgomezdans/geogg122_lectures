{
 "metadata": {
  "name": "Python101"
 },
 "nbformat": 3,
 "nbformat_minor": 0,
 "worksheets": [
  {
   "cells": [
    {
     "cell_type": "heading",
     "level": 1,
     "metadata": {},
     "source": "Introduction to python"
    },
    {
     "cell_type": "heading",
     "level": 2,
     "metadata": {},
     "source": "Geogg122\nJ G\u00f3mez-Dans <j.gomez-dans@ucl.ac.uk>"
    },
    {
     "cell_type": "heading",
     "level": 2,
     "metadata": {},
     "source": "Scientific computing and scientific languages"
    },
    {
     "cell_type": "markdown",
     "metadata": {},
     "source": "There are many computer programming languages available. Some of them work very close to the machine level, and tend to be very fast. However, programming complicated algorithms for data analysis is usually tedious and error prone. As more and more abstraction is done, we end up with languages that are further away from the machine level, allowing for more convenient mapping of the problems we try to solve to the language. We usually pay a price in performance. \n\nscientific computing, we try to optimise our language choice by investigating a number of areas:\n\n* performance\n* *readability*\n* fast development cycle\n* ability to re-use components\n* established (so we can build up on previous work)\n* portability\n\nPython, and its numerical environment (numpy, scipy and matplotlib) fits this bill nicely: it is easy to code in, although it uses a large number of libraries to produce speedy computations, there are many extensions that you can easily use, and it is supported by a wide and 
very active community. Other typical choices could be Matlab, IDL, C, Fortran or R. The first two are commercial numerical packages, with a syntax which is very similar to Python's, if more limited. C and Fortran are general purpose programming languages, and R is a widely used package/language for statistical analysis. Python has a syntax similar to Matlab and IDL, similar availability of libraries. It can incorporate faster code in C or Fortran easily, and can talk to R. It is also a general purpose programming language that you can use to build stand alone applications or even websites."
    },
    {
     "cell_type": "heading",
     "level": 2,
     "metadata": {},
     "source": "Python in the UCL Geography system"
    },
    {
     "cell_type": "markdown",
     "metadata": {},
     "source": "Type the following command in a shell\n\n    bergen:~$ which ipython\n    /opt/epd-7.1-2-rh5-x86_64/bin/ipython*\n\n"
    },
    {
     "cell_type": "code",
     "collapsed": false,
     "input": "",
     "language": "python",
     "metadata": {},
     "outputs": []
    }
   ],
   "metadata": {}
  }
 ]
}